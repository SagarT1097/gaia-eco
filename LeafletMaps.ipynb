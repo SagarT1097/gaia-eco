{
 "cells": [
  {
   "cell_type": "code",
   "execution_count": 1,
   "id": "1faef00e-a446-4ddd-8d6f-7299fba4e91d",
   "metadata": {},
   "outputs": [
    {
     "name": "stdout",
     "output_type": "stream",
     "text": [
      "Requirement already satisfied: ipyleaflet in c:\\python312\\lib\\site-packages (0.19.0)\n",
      "Requirement already satisfied: branca>=0.5.0 in c:\\python312\\lib\\site-packages (from ipyleaflet) (0.7.2)\n",
      "Requirement already satisfied: ipywidgets<9,>=7.6.0 in c:\\python312\\lib\\site-packages (from ipyleaflet) (8.1.2)\n",
      "Requirement already satisfied: jupyter-leaflet<0.20,>=0.19 in c:\\python312\\lib\\site-packages (from ipyleaflet) (0.19.0)\n",
      "Requirement already satisfied: traittypes<3,>=0.2.1 in c:\\python312\\lib\\site-packages (from ipyleaflet) (0.2.1)\n",
      "Requirement already satisfied: xyzservices>=2021.8.1 in c:\\python312\\lib\\site-packages (from ipyleaflet) (2024.4.0)\n",
      "Requirement already satisfied: jinja2>=3 in c:\\python312\\lib\\site-packages (from branca>=0.5.0->ipyleaflet) (3.1.4)\n",
      "Requirement already satisfied: comm>=0.1.3 in c:\\python312\\lib\\site-packages (from ipywidgets<9,>=7.6.0->ipyleaflet) (0.2.2)\n",
      "Requirement already satisfied: ipython>=6.1.0 in c:\\python312\\lib\\site-packages (from ipywidgets<9,>=7.6.0->ipyleaflet) (8.24.0)\n",
      "Requirement already satisfied: traitlets>=4.3.1 in c:\\python312\\lib\\site-packages (from ipywidgets<9,>=7.6.0->ipyleaflet) (5.14.3)\n",
      "Requirement already satisfied: widgetsnbextension~=4.0.10 in c:\\python312\\lib\\site-packages (from ipywidgets<9,>=7.6.0->ipyleaflet) (4.0.10)\n",
      "Requirement already satisfied: jupyterlab-widgets~=3.0.10 in c:\\python312\\lib\\site-packages (from ipywidgets<9,>=7.6.0->ipyleaflet) (3.0.10)\n",
      "Requirement already satisfied: decorator in c:\\python312\\lib\\site-packages (from ipython>=6.1.0->ipywidgets<9,>=7.6.0->ipyleaflet) (5.1.1)\n",
      "Requirement already satisfied: jedi>=0.16 in c:\\python312\\lib\\site-packages (from ipython>=6.1.0->ipywidgets<9,>=7.6.0->ipyleaflet) (0.19.1)\n",
      "Requirement already satisfied: matplotlib-inline in c:\\python312\\lib\\site-packages (from ipython>=6.1.0->ipywidgets<9,>=7.6.0->ipyleaflet) (0.1.7)\n",
      "Requirement already satisfied: prompt-toolkit<3.1.0,>=3.0.41 in c:\\python312\\lib\\site-packages (from ipython>=6.1.0->ipywidgets<9,>=7.6.0->ipyleaflet) (3.0.43)\n",
      "Requirement already satisfied: pygments>=2.4.0 in c:\\python312\\lib\\site-packages (from ipython>=6.1.0->ipywidgets<9,>=7.6.0->ipyleaflet) (2.18.0)\n",
      "Requirement already satisfied: stack-data in c:\\python312\\lib\\site-packages (from ipython>=6.1.0->ipywidgets<9,>=7.6.0->ipyleaflet) (0.6.3)\n",
      "Requirement already satisfied: colorama in c:\\python312\\lib\\site-packages (from ipython>=6.1.0->ipywidgets<9,>=7.6.0->ipyleaflet) (0.4.6)\n",
      "Requirement already satisfied: MarkupSafe>=2.0 in c:\\python312\\lib\\site-packages (from jinja2>=3->branca>=0.5.0->ipyleaflet) (2.1.5)\n",
      "Requirement already satisfied: parso<0.9.0,>=0.8.3 in c:\\python312\\lib\\site-packages (from jedi>=0.16->ipython>=6.1.0->ipywidgets<9,>=7.6.0->ipyleaflet) (0.8.4)\n",
      "Requirement already satisfied: wcwidth in c:\\python312\\lib\\site-packages (from prompt-toolkit<3.1.0,>=3.0.41->ipython>=6.1.0->ipywidgets<9,>=7.6.0->ipyleaflet) (0.2.13)\n",
      "Requirement already satisfied: executing>=1.2.0 in c:\\python312\\lib\\site-packages (from stack-data->ipython>=6.1.0->ipywidgets<9,>=7.6.0->ipyleaflet) (2.0.1)\n",
      "Requirement already satisfied: asttokens>=2.1.0 in c:\\python312\\lib\\site-packages (from stack-data->ipython>=6.1.0->ipywidgets<9,>=7.6.0->ipyleaflet) (2.4.1)\n",
      "Requirement already satisfied: pure-eval in c:\\python312\\lib\\site-packages (from stack-data->ipython>=6.1.0->ipywidgets<9,>=7.6.0->ipyleaflet) (0.2.2)\n",
      "Requirement already satisfied: six>=1.12.0 in c:\\python312\\lib\\site-packages (from asttokens>=2.1.0->stack-data->ipython>=6.1.0->ipywidgets<9,>=7.6.0->ipyleaflet) (1.16.0)\n",
      "Note: you may need to restart the kernel to use updated packages.\n"
     ]
    },
    {
     "name": "stderr",
     "output_type": "stream",
     "text": [
      "\n",
      "[notice] A new release of pip is available: 23.2.1 -> 24.0\n",
      "[notice] To update, run: python.exe -m pip install --upgrade pip\n"
     ]
    }
   ],
   "source": [
    "pip install ipyleaflet"
   ]
  },
  {
   "cell_type": "code",
   "execution_count": 2,
   "id": "fd5834c7-4318-43ad-be24-9f6afc32b920",
   "metadata": {},
   "outputs": [],
   "source": [
    "#Import ipyleaflet "
   ]
  },
  {
   "cell_type": "code",
   "execution_count": 3,
   "id": "b82d6140-4634-483e-8aca-138d8b4cc7e3",
   "metadata": {},
   "outputs": [
    {
     "data": {
      "application/vnd.jupyter.widget-view+json": {
       "model_id": "c39a4a8390544c0d8072e26fa2e8ba53",
       "version_major": 2,
       "version_minor": 0
      },
      "text/plain": [
       "Map(center=[59.858227, 17.632252], controls=(ZoomControl(options=['position', 'zoom_in_text', 'zoom_in_title',…"
      ]
     },
     "metadata": {},
     "output_type": "display_data"
    }
   ],
   "source": [
    "from ipyleaflet import Map, basemaps\n",
    "\n",
    "test_map = Map(basemap = basemaps.Esri.WorldStreetMap, center = [59.858227, 17.632252], zoom = 15)\n",
    "\n",
    "#Display the map\n",
    "display(test_map)"
   ]
  },
  {
   "cell_type": "code",
   "execution_count": 4,
   "id": "3f5e0f3b-a94c-4044-98a8-278d98aa8111",
   "metadata": {},
   "outputs": [
    {
     "name": "stdout",
     "output_type": "stream",
     "text": [
      "Requirement already satisfied: pandas in c:\\python312\\lib\\site-packages (2.2.2)\n",
      "Requirement already satisfied: numpy>=1.26.0 in c:\\python312\\lib\\site-packages (from pandas) (1.26.4)\n",
      "Requirement already satisfied: python-dateutil>=2.8.2 in c:\\python312\\lib\\site-packages (from pandas) (2.9.0.post0)\n",
      "Requirement already satisfied: pytz>=2020.1 in c:\\python312\\lib\\site-packages (from pandas) (2024.1)\n",
      "Requirement already satisfied: tzdata>=2022.7 in c:\\python312\\lib\\site-packages (from pandas) (2024.1)\n",
      "Requirement already satisfied: six>=1.5 in c:\\python312\\lib\\site-packages (from python-dateutil>=2.8.2->pandas) (1.16.0)\n",
      "Note: you may need to restart the kernel to use updated packages.\n"
     ]
    },
    {
     "name": "stderr",
     "output_type": "stream",
     "text": [
      "\n",
      "[notice] A new release of pip is available: 23.2.1 -> 24.0\n",
      "[notice] To update, run: python.exe -m pip install --upgrade pip\n"
     ]
    }
   ],
   "source": [
    "pip install pandas"
   ]
  },
  {
   "cell_type": "code",
   "execution_count": 5,
   "id": "82a4a059-42d1-403b-9e90-3684ef206c76",
   "metadata": {},
   "outputs": [],
   "source": [
    "import pandas as pd"
   ]
  },
  {
   "cell_type": "code",
   "execution_count": 6,
   "id": "7c235b4e-f1ee-4f93-8361-682af2524094",
   "metadata": {},
   "outputs": [
    {
     "name": "stdout",
     "output_type": "stream",
     "text": [
      "    id  latitude  longitude                    region    country\n",
      "0    1   68.3619    27.6116          Lapland, Finland    Finland\n",
      "1    2   65.0086    25.4670             Oulu, Finland    Finland\n",
      "2    3   69.6496    18.9560            Tromsø, Norway     Norway\n",
      "3    4   69.2010   -51.0943           Nuuk, Greenland  Greenland\n",
      "4    5   64.1466   -21.9426        Reykjavik, Iceland    Iceland\n",
      "5    6   63.4297    10.3933         Trondheim, Norway     Norway\n",
      "6    7   59.9139    10.7522              Oslo, Norway     Norway\n",
      "7    8   65.5842   -37.7850      Ilulissat, Greenland  Greenland\n",
      "8    9   65.2820   -14.3896         Akureyri, Iceland    Iceland\n",
      "9   10   57.7089    11.9746        Gothenburg, Sweden     Sweden\n",
      "10  11   65.5825    22.1458              Umeå, Sweden     Sweden\n",
      "11  12   68.3606    23.7156        Rovaniemi, Finland    Finland\n",
      "12  13   68.3488    17.6476            Narvik, Norway     Norway\n",
      "13  14   61.9241    25.7482          Tampere, Finland    Finland\n",
      "14  15   65.0121    25.4682             Oulu, Finland    Finland\n",
      "15  16   64.7501    24.7758        Jyväskylä, Finland    Finland\n",
      "16  17   68.7230    16.9576              Bodø, Norway     Norway\n",
      "17  18   60.1695    24.9354         Helsinki, Finland    Finland\n",
      "18  19   65.8530   -37.9780  Kangerlussuaq, Greenland  Greenland\n",
      "19  20   63.4468    13.0701         Östersund, Sweden     Sweden\n",
      "20  21   67.8556    20.2253             Luleå, Sweden     Sweden\n",
      "21  22   57.0488     9.9217          Aalborg, Denmark    Denmark\n",
      "22  23   55.6761    12.5683       Copenhagen, Denmark    Denmark\n",
      "23  24   69.3558    88.1893           Norilsk, Russia     Russia\n",
      "24  25   64.1466   -21.9426        Reykjavik, Iceland    Iceland\n",
      "25  26   64.1265   -21.8174        Kópavogur, Iceland    Iceland\n",
      "26  27   68.1475   -16.6789          Grímsey, Iceland    Iceland\n",
      "27  28   68.9921    24.7914            Kiruna, Sweden     Sweden\n",
      "28  29   63.4305    10.3951         Trondheim, Norway     Norway\n",
      "29  30   60.4515    22.2687            Turku, Finland    Finland\n",
      "30  31   63.8709    11.5486         Steinkjer, Norway     Norway\n",
      "31  32   60.1695    24.9354         Helsinki, Finland    Finland\n",
      "32  33   64.1466   -21.9426        Reykjavik, Iceland    Iceland\n",
      "33  34   65.0121    25.4682             Oulu, Finland    Finland\n",
      "34  35   60.4515    22.2687            Turku, Finland    Finland\n",
      "35  36   63.4305    10.3951         Trondheim, Norway     Norway\n",
      "36  37   61.9241    25.7482          Tampere, Finland    Finland\n",
      "37  38   59.9139    10.7522              Oslo, Norway     Norway\n",
      "38  39   63.4468    13.0701         Östersund, Sweden     Sweden\n",
      "39  40   65.5842   -37.7850      Ilulissat, Greenland  Greenland\n",
      "40  41   68.3619    27.6116          Lapland, Finland    Finland\n",
      "41  42   65.8530   -37.9780  Kangerlussuaq, Greenland  Greenland\n",
      "42  43   55.6761    12.5683       Copenhagen, Denmark    Denmark\n",
      "43  44   64.1476   -21.9426        Reykjavik, Iceland    Iceland\n",
      "44  45   64.7501    24.7758        Jyväskylä, Finland    Finland\n",
      "45  46   60.1282    18.6435         Stockholm, Sweden     Sweden\n",
      "46  47   59.3293    18.0686        Gothenburg, Sweden     Sweden\n"
     ]
    }
   ],
   "source": [
    "df = pd.read_csv ('app/data/speciesdata.csv')\n",
    "print(df)"
   ]
  },
  {
   "cell_type": "code",
   "execution_count": 7,
   "id": "78bcc948-396b-4cb2-a13a-95f88f645fc0",
   "metadata": {},
   "outputs": [],
   "source": [
    "from ipyleaflet import Marker\n",
    "for index, row in df.iterrows():\n",
    "    marker = Marker(location=(row['latitude'], row['longitude']))\n",
    "    test_map.add_layer(marker)"
   ]
  },
  {
   "cell_type": "code",
   "execution_count": 17,
   "id": "74524367-b463-4406-b4a0-3e97ed0c508e",
   "metadata": {},
   "outputs": [
    {
     "data": {
      "application/vnd.jupyter.widget-view+json": {
       "model_id": "c39a4a8390544c0d8072e26fa2e8ba53",
       "version_major": 2,
       "version_minor": 0
      },
      "text/plain": [
       "Map(bottom=266.0, center=[78.8360654533353, -64.52800660075009], controls=(ZoomControl(options=['position', 'z…"
      ]
     },
     "metadata": {},
     "output_type": "display_data"
    }
   ],
   "source": [
    "display(test_map)"
   ]
  },
  {
   "cell_type": "code",
   "execution_count": 9,
   "id": "6cc4494e-597c-49c1-8ff0-3d6b371d7894",
   "metadata": {},
   "outputs": [
    {
     "name": "stdout",
     "output_type": "stream",
     "text": [
      "Requirement already satisfied: ipywidgets in c:\\python312\\lib\\site-packages (8.1.2)\n",
      "Requirement already satisfied: comm>=0.1.3 in c:\\python312\\lib\\site-packages (from ipywidgets) (0.2.2)\n",
      "Requirement already satisfied: ipython>=6.1.0 in c:\\python312\\lib\\site-packages (from ipywidgets) (8.24.0)\n",
      "Requirement already satisfied: traitlets>=4.3.1 in c:\\python312\\lib\\site-packages (from ipywidgets) (5.14.3)\n",
      "Requirement already satisfied: widgetsnbextension~=4.0.10 in c:\\python312\\lib\\site-packages (from ipywidgets) (4.0.10)\n",
      "Requirement already satisfied: jupyterlab-widgets~=3.0.10 in c:\\python312\\lib\\site-packages (from ipywidgets) (3.0.10)\n",
      "Requirement already satisfied: decorator in c:\\python312\\lib\\site-packages (from ipython>=6.1.0->ipywidgets) (5.1.1)\n",
      "Requirement already satisfied: jedi>=0.16 in c:\\python312\\lib\\site-packages (from ipython>=6.1.0->ipywidgets) (0.19.1)\n",
      "Requirement already satisfied: matplotlib-inline in c:\\python312\\lib\\site-packages (from ipython>=6.1.0->ipywidgets) (0.1.7)\n",
      "Requirement already satisfied: prompt-toolkit<3.1.0,>=3.0.41 in c:\\python312\\lib\\site-packages (from ipython>=6.1.0->ipywidgets) (3.0.43)\n",
      "Requirement already satisfied: pygments>=2.4.0 in c:\\python312\\lib\\site-packages (from ipython>=6.1.0->ipywidgets) (2.18.0)\n",
      "Requirement already satisfied: stack-data in c:\\python312\\lib\\site-packages (from ipython>=6.1.0->ipywidgets) (0.6.3)\n",
      "Requirement already satisfied: colorama in c:\\python312\\lib\\site-packages (from ipython>=6.1.0->ipywidgets) (0.4.6)\n",
      "Requirement already satisfied: parso<0.9.0,>=0.8.3 in c:\\python312\\lib\\site-packages (from jedi>=0.16->ipython>=6.1.0->ipywidgets) (0.8.4)\n",
      "Requirement already satisfied: wcwidth in c:\\python312\\lib\\site-packages (from prompt-toolkit<3.1.0,>=3.0.41->ipython>=6.1.0->ipywidgets) (0.2.13)\n",
      "Requirement already satisfied: executing>=1.2.0 in c:\\python312\\lib\\site-packages (from stack-data->ipython>=6.1.0->ipywidgets) (2.0.1)\n",
      "Requirement already satisfied: asttokens>=2.1.0 in c:\\python312\\lib\\site-packages (from stack-data->ipython>=6.1.0->ipywidgets) (2.4.1)\n",
      "Requirement already satisfied: pure-eval in c:\\python312\\lib\\site-packages (from stack-data->ipython>=6.1.0->ipywidgets) (0.2.2)\n",
      "Requirement already satisfied: six>=1.12.0 in c:\\python312\\lib\\site-packages (from asttokens>=2.1.0->stack-data->ipython>=6.1.0->ipywidgets) (1.16.0)\n",
      "Note: you may need to restart the kernel to use updated packages.\n"
     ]
    },
    {
     "name": "stderr",
     "output_type": "stream",
     "text": [
      "\n",
      "[notice] A new release of pip is available: 23.2.1 -> 24.0\n",
      "[notice] To update, run: python.exe -m pip install --upgrade pip\n"
     ]
    }
   ],
   "source": [
    "pip install ipywidgets"
   ]
  },
  {
   "cell_type": "code",
   "execution_count": 16,
   "id": "9ca7a2f8-645c-45db-8257-ccc24f59777b",
   "metadata": {},
   "outputs": [
    {
     "data": {
      "application/vnd.jupyter.widget-view+json": {
       "model_id": "b4abc4db72ac41f1b9037a04851b7e72",
       "version_major": 2,
       "version_minor": 0
      },
      "text/plain": [
       "Dropdown(description='Select Country:', options=('All', 'Finland', 'Norway', 'Greenland', 'Iceland', 'Sweden',…"
      ]
     },
     "metadata": {},
     "output_type": "display_data"
    },
    {
     "data": {
      "application/vnd.jupyter.widget-view+json": {
       "model_id": "115c3a469ecb4600bd09ed7837e4f6f5",
       "version_major": 2,
       "version_minor": 0
      },
      "text/plain": [
       "Map(center=[63.9549829787234, 8.309712765957448], controls=(ZoomControl(options=['position', 'zoom_in_text', '…"
      ]
     },
     "metadata": {},
     "output_type": "display_data"
    }
   ],
   "source": [
    "from ipyleaflet import Map, Marker\n",
    "import pandas as pd\n",
    "import ipywidgets as widgets\n",
    "from IPython.display import display\n",
    "\n",
    "def display_markers(df):\n",
    "    center = (df['latitude'].mean(), df['longitude'].mean())\n",
    "    m = Map(center=center, zoom=2)\n",
    "    \n",
    "    # Dropdown widget to select country\n",
    "    country_dropdown = widgets.Dropdown(\n",
    "        options=['All'] + df['country'].unique().tolist(),\n",
    "        value='All',\n",
    "        description='Select Country:'\n",
    "    )\n",
    "    \n",
    "    def on_country_change(change):\n",
    "        m.clear_layers()  # Clear existing markers\n",
    "        \n",
    "        if change.new == 'All':\n",
    "            filtered_df = df\n",
    "        else:\n",
    "            filtered_df = df[df['country'] == change.new]\n",
    "        \n",
    "        # Add markers to the map\n",
    "        for index, row in filtered_df.iterrows():\n",
    "            marker = Marker(location=(row['latitude'], row['longitude']))\n",
    "            m.add_layer(marker)\n",
    "    \n",
    "    country_dropdown.observe(on_country_change, names='value')\n",
    "    display(country_dropdown)\n",
    "    display(m)\n",
    "\n",
    "# Display markers\n",
    "display_markers(df)"
   ]
  },
  {
   "cell_type": "code",
   "execution_count": null,
   "id": "81c947b4-ad21-49c8-bbef-f0ac53571351",
   "metadata": {},
   "outputs": [],
   "source": []
  }
 ],
 "metadata": {
  "kernelspec": {
   "display_name": "Python 3 (ipykernel)",
   "language": "python",
   "name": "python3"
  },
  "language_info": {
   "codemirror_mode": {
    "name": "ipython",
    "version": 3
   },
   "file_extension": ".py",
   "mimetype": "text/x-python",
   "name": "python",
   "nbconvert_exporter": "python",
   "pygments_lexer": "ipython3",
   "version": "3.12.1"
  }
 },
 "nbformat": 4,
 "nbformat_minor": 5
}
